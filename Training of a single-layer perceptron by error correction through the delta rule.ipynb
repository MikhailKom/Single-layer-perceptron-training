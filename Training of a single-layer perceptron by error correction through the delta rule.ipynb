{
 "cells": [
  {
   "cell_type": "markdown",
   "metadata": {
    "id": "xeGXAS8X_wEY"
   },
   "source": [
    "### Обучение однослойного персептрона методом коррекции по ошибке через дельта-правило\n"
   ]
  },
  {
   "cell_type": "markdown",
   "metadata": {
    "id": "mWdvhmQtOEEY"
   },
   "source": [
    "### Загрузка датасета, предобработка данных"
   ]
  },
  {
   "cell_type": "code",
   "execution_count": 65,
   "metadata": {
    "id": "r9ENmtzcasFe"
   },
   "outputs": [],
   "source": [
    "PATH = 'C:/Users/Mikasi/Desktop/ИНСТ 06.2022/Technologies of deep learning and neural networks (Gorodnichev)'\n",
    "\n",
    "import matplotlib.pyplot as plt\n",
    "import numpy as np\n",
    "import torch\n",
    "from torchvision import datasets, transforms\n",
    "\n",
    "transform = transforms.Compose([transforms.Resize(28),\n",
    "                                transforms.ToTensor()])\n",
    "\n",
    "train_dataset = datasets.ImageFolder(PATH+'/Train', transform=transform)\n",
    "dataloader = torch.utils.data.DataLoader(train_dataset, batch_size=24, shuffle=True)\n",
    "images, labels = next(iter(dataloader))"
   ]
  },
  {
   "cell_type": "markdown",
   "metadata": {
    "id": "r3Z6F-XoioO8"
   },
   "source": [
    "Наши картинки имеют по 3 канала, но использование всех 3 в данной задаче излишне - можно выбрать любой канал."
   ]
  },
  {
   "cell_type": "code",
   "execution_count": 66,
   "metadata": {
    "colab": {
     "base_uri": "https://localhost:8080/",
     "height": 282
    },
    "id": "A3SWKTPGio32",
    "outputId": "46203965-e985-417e-8f9d-c8c4fa8915c8"
   },
   "outputs": [
    {
     "data": {
      "text/plain": [
       "<matplotlib.image.AxesImage at 0x145128b7ca0>"
      ]
     },
     "execution_count": 66,
     "metadata": {},
     "output_type": "execute_result"
    },
    {
     "data": {
      "image/png": "[encoded data removed]",
      "text/plain": [
       "<Figure size 432x288 with 1 Axes>"
      ]
     },
     "metadata": {
      "needs_background": "light"
     },
     "output_type": "display_data"
    }
   ],
   "source": [
    "plt.imshow(images[0][0])"
   ]
  },
  {
   "cell_type": "code",
   "execution_count": 67,
   "metadata": {
    "id": "0V9bE9bCis-f"
   },
   "outputs": [],
   "source": [
    "images = images[:, 0]\n",
    "images = images.reshape(24, 28*28)"
   ]
  },
  {
   "cell_type": "markdown",
   "metadata": {
    "id": "mFtQSStFi_xE"
   },
   "source": [
    "### Архитектура сети:\n",
    "\n",
    "Создадим однослойный персептрон. \\\\\n",
    "\n",
    "Входной слой: 784 x 1 \\\\\n",
    "\n",
    "Метод обучения: дельта-правило (см. torch.optim.Adadelta)\n"
   ]
  },
  {
   "cell_type": "code",
   "execution_count": 68,
   "metadata": {
    "id": "t2RyvaOWlHZC"
   },
   "outputs": [],
   "source": [
    "import torch\n",
    "from torch.nn import Linear"
   ]
  },
  {
   "cell_type": "code",
   "execution_count": 69,
   "metadata": {
    "id": "cUoDZKW-iwxW"
   },
   "outputs": [],
   "source": [
    "input_size = 784\n",
    "output_size = 1"
   ]
  },
  {
   "cell_type": "code",
   "execution_count": 70,
   "metadata": {
    "id": "5B6uYYe8a8rC"
   },
   "outputs": [],
   "source": [
    "mlp = torch.nn.Sequential(\n",
    "    Linear(input_size, output_size)\n",
    ").to('cuda')\n",
    "\n",
    "loss_fn = torch.nn.MSELoss()\n",
    "learning_rate = 0.001\n",
    "optimizer = torch.optim.Adadelta(mlp.parameters(), lr=learning_rate)\n",
    "num_epoch = 5000"
   ]
  },
  {
   "cell_type": "code",
   "execution_count": 138,
   "metadata": {
    "colab": {
     "base_uri": "https://localhost:8080/"
    },
    "id": "locAGuR5i_P1",
    "outputId": "2b2f8fb1-d06e-4cbc-d7f7-ba4200b68471"
   },
   "outputs": [
    {
     "name": "stdout",
     "output_type": "stream",
     "text": [
      "Epoch: 0 Loss: 1.1178818287715941e-10\n",
      "Epoch: 60 Loss: 1.1148439116315245e-10\n",
      "Epoch: 120 Loss: 1.1123067744644999e-10\n",
      "Epoch: 180 Loss: 1.102125751772931e-10\n",
      "Epoch: 240 Loss: 1.0983868675706887e-10\n",
      "Epoch: 300 Loss: 1.0939282812927331e-10\n",
      "Epoch: 360 Loss: 1.0891042234728587e-10\n",
      "Epoch: 420 Loss: 1.0800327299165247e-10\n",
      "Epoch: 480 Loss: 1.0836148645054777e-10\n",
      "Epoch: 540 Loss: 1.0851915199783235e-10\n",
      "Epoch: 600 Loss: 1.0731593391710703e-10\n",
      "Epoch: 660 Loss: 1.0682615209089974e-10\n",
      "Epoch: 720 Loss: 1.0632338759419824e-10\n",
      "Epoch: 780 Loss: 1.0582143494808349e-10\n",
      "Epoch: 840 Loss: 1.05564834651517e-10\n",
      "Epoch: 900 Loss: 1.05221185930926e-10\n",
      "Epoch: 960 Loss: 1.0479508233407486e-10\n",
      "Epoch: 1020 Loss: 1.0461188859611781e-10\n",
      "Epoch: 1080 Loss: 1.0419267532091325e-10\n",
      "Epoch: 1140 Loss: 1.0422179785862795e-10\n",
      "Epoch: 1200 Loss: 1.0423961693817319e-10\n",
      "Epoch: 1260 Loss: 1.0250743309736521e-10\n",
      "Epoch: 1320 Loss: 1.0265312905266555e-10\n",
      "Epoch: 1380 Loss: 1.0211059081610685e-10\n",
      "Epoch: 1440 Loss: 1.0147829104800721e-10\n",
      "Epoch: 1500 Loss: 1.0049570897674442e-10\n",
      "Epoch: 1560 Loss: 1.002591204501968e-10\n",
      "Epoch: 1620 Loss: 1.0015385049078063e-10\n",
      "Epoch: 1680 Loss: 9.995112376648407e-11\n",
      "Epoch: 1740 Loss: 9.949946422338485e-11\n",
      "Epoch: 1800 Loss: 9.937525802250491e-11\n",
      "Epoch: 1860 Loss: 9.844452336649212e-11\n",
      "Epoch: 1920 Loss: 9.828800967559559e-11\n",
      "Epoch: 1980 Loss: 9.770538544895402e-11\n",
      "Epoch: 2040 Loss: 9.756891128365197e-11\n",
      "Epoch: 2100 Loss: 9.719852700484921e-11\n",
      "Epoch: 2160 Loss: 9.700135139567578e-11\n",
      "Epoch: 2220 Loss: 9.64952492910065e-11\n",
      "Epoch: 2280 Loss: 9.648523646710316e-11\n",
      "Epoch: 2340 Loss: 9.597497102609154e-11\n",
      "Epoch: 2400 Loss: 9.566544084682604e-11\n",
      "Epoch: 2460 Loss: 9.533444866871577e-11\n",
      "Epoch: 2520 Loss: 9.497127390067917e-11\n",
      "Epoch: 2580 Loss: 9.453475502407827e-11\n",
      "Epoch: 2640 Loss: 9.372418119379944e-11\n",
      "Epoch: 2700 Loss: 9.348557344912578e-11\n",
      "Epoch: 2760 Loss: 9.316208915421953e-11\n",
      "Epoch: 2820 Loss: 9.316041688078869e-11\n",
      "Epoch: 2880 Loss: 9.364314879078961e-11\n",
      "Epoch: 2940 Loss: 9.249290222612672e-11\n",
      "Epoch: 3000 Loss: 9.141394585743257e-11\n",
      "Epoch: 3060 Loss: 9.129320910350458e-11\n",
      "Epoch: 3120 Loss: 9.110625448505161e-11\n",
      "Epoch: 3180 Loss: 9.053099936373599e-11\n",
      "Epoch: 3240 Loss: 9.02939389924029e-11\n",
      "Epoch: 3300 Loss: 9.018160523899255e-11\n",
      "Epoch: 3360 Loss: 8.986685701151131e-11\n",
      "Epoch: 3420 Loss: 8.975891557794213e-11\n",
      "Epoch: 3480 Loss: 8.884329383285205e-11\n",
      "Epoch: 3540 Loss: 8.879669222139341e-11\n",
      "Epoch: 3600 Loss: 8.837122006388753e-11\n",
      "Epoch: 3660 Loss: 8.827890501938995e-11\n",
      "Epoch: 3720 Loss: 8.819602687060168e-11\n",
      "Epoch: 3780 Loss: 8.764705627939406e-11\n",
      "Epoch: 3840 Loss: 8.69735047870357e-11\n",
      "Epoch: 3900 Loss: 8.745630608597565e-11\n",
      "Epoch: 3960 Loss: 8.640840126750149e-11\n",
      "Epoch: 4020 Loss: 8.6381068964414e-11\n",
      "Epoch: 4080 Loss: 8.573633469843855e-11\n",
      "Epoch: 4140 Loss: 8.555613856264799e-11\n",
      "Epoch: 4200 Loss: 8.558269370961824e-11\n",
      "Epoch: 4260 Loss: 8.521244820869356e-11\n",
      "Epoch: 4320 Loss: 8.44645117736853e-11\n",
      "Epoch: 4380 Loss: 8.438368753749259e-11\n",
      "Epoch: 4440 Loss: 8.395249773140989e-11\n",
      "Epoch: 4500 Loss: 8.376650761920956e-11\n",
      "Epoch: 4560 Loss: 8.383207322770758e-11\n",
      "Epoch: 4620 Loss: 8.34131652638348e-11\n",
      "Epoch: 4680 Loss: 8.298719350596784e-11\n",
      "Epoch: 4740 Loss: 8.273842722061886e-11\n",
      "Epoch: 4800 Loss: 8.271262841308413e-11\n",
      "Epoch: 4860 Loss: 8.251840877271377e-11\n",
      "Epoch: 4920 Loss: 8.170836229837164e-11\n",
      "Epoch: 4980 Loss: 8.196290174344867e-11\n"
     ]
    }
   ],
   "source": [
    "train_data = torch.cuda.FloatTensor(images.numpy(), device='cuda')\n",
    "train_labels = torch.cuda.FloatTensor(labels.numpy(), device='cuda')\n",
    "\n",
    "loss_curve = []\n",
    "for epoch in range(num_epoch):\n",
    "    y_pred = mlp(train_data)\n",
    "    loss = loss_fn(y_pred.reshape(-1), train_labels)\n",
    "    optimizer.zero_grad()\n",
    "    loss.backward()\n",
    "    optimizer.step()\n",
    "\n",
    "    if epoch % 60 == 0:\n",
    "\n",
    "        print('Epoch:', epoch, 'Loss:', loss.item())\n",
    "        loss_curve.append(loss.item())\n",
    "    "
   ]
  },
  {
   "cell_type": "code",
   "execution_count": 139,
   "metadata": {
    "colab": {
     "base_uri": "https://localhost:8080/",
     "height": 312
    },
    "id": "u0vi9oyxbVGB",
    "outputId": "7041a1d0-8497-43bc-9316-e1513d5e93f3"
   },
   "outputs": [
    {
     "data": {
      "text/plain": [
       "Text(0, 0.5, 'loss')"
      ]
     },
     "execution_count": 139,
     "metadata": {},
     "output_type": "execute_result"
    },
    {
     "data": {
      "image/png": "[encoded data removed]",
      "text/plain": [
       "<Figure size 432x288 with 1 Axes>"
      ]
     },
     "metadata": {
      "needs_background": "light"
     },
     "output_type": "display_data"
    }
   ],
   "source": [
    "from matplotlib import pyplot as plt\n",
    "\n",
    "plt.plot(loss_curve)\n",
    "plt.title('Loss curve')\n",
    "plt.xlabel('epoch')\n",
    "plt.ylabel('loss')"
   ]
  },
  {
   "cell_type": "code",
   "execution_count": 140,
   "metadata": {
    "colab": {
     "base_uri": "https://localhost:8080/"
    },
    "id": "kQIa5wpGs8PT",
    "outputId": "bc785dcb-2c09-443c-dd7a-a5f36252f852"
   },
   "outputs": [
    {
     "name": "stdout",
     "output_type": "stream",
     "text": [
      "Точность на обучении: 1.0\n"
     ]
    }
   ],
   "source": [
    "from sklearn.metrics import accuracy_score\n",
    "\n",
    "preds = y_pred.detach().cpu().numpy().round()\n",
    "print(\"Точность на обучении:\", accuracy_score(train_labels.detach().cpu().numpy(), preds))"
   ]
  },
  {
   "cell_type": "markdown",
   "metadata": {
    "id": "UYtDhELVrsTW"
   },
   "source": [
    "## Тестирование:"
   ]
  },
  {
   "cell_type": "code",
   "execution_count": 141,
   "metadata": {
    "id": "H69op_00r4KD"
   },
   "outputs": [],
   "source": [
    "test_dataset = datasets.ImageFolder(PATH+'/Test', transform=transform)\n",
    "dataloader = torch.utils.data.DataLoader(test_dataset, batch_size=32, shuffle=True)\n",
    "test_images, test_labels = next(iter(dataloader))\n",
    "\n",
    "test_images = test_images[:, 0]\n",
    "test_images = test_images.reshape(6, 28*28)"
   ]
  },
  {
   "cell_type": "code",
   "execution_count": 142,
   "metadata": {
    "id": "ykVDNmJJouff"
   },
   "outputs": [],
   "source": [
    "test_data = torch.cuda.FloatTensor(test_images.numpy(), device='cuda')\n",
    "test_preds = mlp(test_data).detach().cpu().numpy().round()"
   ]
  },
  {
   "cell_type": "code",
   "execution_count": 143,
   "metadata": {
    "colab": {
     "base_uri": "https://localhost:8080/"
    },
    "id": "b_SZ2JA4uMx8",
    "outputId": "17694c44-dcc1-474b-d571-352910499e18"
   },
   "outputs": [
    {
     "name": "stdout",
     "output_type": "stream",
     "text": [
      "Точность на тесте: 0.8333333333333334\n"
     ]
    }
   ],
   "source": [
    "print(\"Точность на тесте:\", accuracy_score(test_labels.numpy(), test_preds))"
   ]
  },
  {
   "cell_type": "markdown",
   "metadata": {
    "id": "7fbXbD7thcjb"
   },
   "source": [
    "### Где ошибка?"
   ]
  },
  {
   "cell_type": "code",
   "execution_count": 144,
   "metadata": {
    "id": "Lqw0qkWlf-8p"
   },
   "outputs": [],
   "source": [
    "test_labels = test_labels.numpy().astype(int)\n",
    "test_preds = test_preds.reshape(-1).astype(int)"
   ]
  },
  {
   "cell_type": "code",
   "execution_count": 145,
   "metadata": {
    "id": "oaSsOE0KevTf"
   },
   "outputs": [],
   "source": [
    "wrong_ans = test_preds != test_labels\n",
    "bad_classification_X = test_data[wrong_ans]\n",
    "wrong_preds = test_preds[wrong_ans]"
   ]
  },
  {
   "cell_type": "code",
   "execution_count": 146,
   "metadata": {
    "colab": {
     "base_uri": "https://localhost:8080/",
     "height": 282
    },
    "id": "w1LiDi2vfWAF",
    "outputId": "f0c3fb1a-b92b-4e77-c1fd-f482fb1ee1d4"
   },
   "outputs": [
    {
     "data": {
      "text/plain": [
       "<matplotlib.image.AxesImage at 0x1451b5588e0>"
      ]
     },
     "execution_count": 146,
     "metadata": {},
     "output_type": "execute_result"
    },
    {
     "data": {
      "image/png": "[encoded data removed]",
      "text/plain": [
       "<Figure size 432x288 with 1 Axes>"
      ]
     },
     "metadata": {
      "needs_background": "light"
     },
     "output_type": "display_data"
    }
   ],
   "source": [
    "plt.imshow(bad_classification_X.cpu().detach().numpy().reshape(28, 28))"
   ]
  },
  {
   "cell_type": "code",
   "execution_count": 149,
   "metadata": {
    "colab": {
     "base_uri": "https://localhost:8080/"
    },
    "id": "QUVja4zofRbi",
    "outputId": "b339d98f-7bd6-4a1f-f5a3-aac4b458f7bb"
   },
   "outputs": [
    {
     "name": "stdout",
     "output_type": "stream",
     "text": [
      "Модель считает, что это : 4\n"
     ]
    }
   ],
   "source": [
    "print(\"Модель считает, что это :\", wrong_preds[0])"
   ]
  },
  {
   "cell_type": "markdown",
   "metadata": {
    "id": "SdgGhOo5dchz"
   },
   "source": [
    "## Выводы:\n",
    "\n",
    "Сеть данной архитектуры способна решать данную задачу просто как задачу регрессии, что говорит о том, что изображения цифр оказались хорошо линейно разделимы в пространстве векторов размера 784. \\\\\n",
    "\n",
    "Однако вряд ли у нашей сети есть серъезная способность к генерализации - на столь малом датасете такие выводы делать не стоит. Скорее всего сеть просто переобучилась на тренировочную выборку (что видно по лосс-кривой), и может выдавать ответы только на данных, очень похожих на тренировочные."
   ]
  }
 ],
 "metadata": {
  "accelerator": "GPU",
  "colab": {
   "collapsed_sections": [],
   "name": "Обучение однослойного персептрона методом коррекции по ошибке через дельта-правило",
   "provenance": []
  },
  "kernelspec": {
   "display_name": "Python 3",
   "language": "python",
   "name": "python3"
  },
  "language_info": {
   "codemirror_mode": {
    "name": "ipython",
    "version": 3
   },
   "file_extension": ".py",
   "mimetype": "text/x-python",
   "name": "python",
   "nbconvert_exporter": "python",
   "pygments_lexer": "ipython3",
   "version": "3.8.8"
  }
 },
 "nbformat": 4,
 "nbformat_minor": 1
}
